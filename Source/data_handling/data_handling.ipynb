{
 "cells": [
  {
   "cell_type": "markdown",
   "metadata": {},
   "source": [
    "# Read pcapng file\n",
    "\n",
    "In total, there are 27 captures:\n",
    "\n",
    "- 9 packages for each of the 3 scenarios:\n",
    "  - 0: none\n",
    "  - 1: sign\n",
    "  - 2: sign and encrypt\n",
    "- For each scenario, there are 4 captures:\n",
    "  - normal\n",
    "  - sniffing\n",
    "  - DOS\n",
    "    - Certificate Infinity Chain Loop\n",
    "    - Function Call Null dereference\n",
    "    - Hping3 (syn flood)\n",
    "    - Open Multiple Secure Channels\n",
    "    - Translate Browse Path Call Stack Overflow\n",
    "  - MITM\n",
    "    - ARP spoofing\n",
    "    - Port stealing\n",
    "\n",
    "### Network Archtechture\n",
    "- Rasp1: Server: 192.168.164.101\n",
    "- Rasp2: Client: 192.168.164.102\n",
    "- Attacker: 192.168.164.201\n",
    "\n",
    "### Attack Scenarios\n",
    "- For MITM attacks, consider that the packets were collected with the execution of the attack from the first packet.\n",
    "- For other attacks (except those collected in a normal environment), consider the beginning of the attack at the moment the attacker entered the communication (192.168.164.201)"
   ]
  },
  {
   "cell_type": "markdown",
   "metadata": {},
   "source": [
    "## Imports"
   ]
  },
  {
   "cell_type": "code",
   "execution_count": 18,
   "metadata": {},
   "outputs": [],
   "source": [
    "from pcapng import FileScanner\n",
    "import pandas as pd\n",
    "import numpy as np\n",
    "import matplotlib.pyplot as plt\n",
    "import re\n",
    "import sys\n",
    "import os\n",
    "import argparse"
   ]
  },
  {
   "cell_type": "markdown",
   "metadata": {},
   "source": [
    "## Declarations"
   ]
  },
  {
   "cell_type": "code",
   "execution_count": 2,
   "metadata": {},
   "outputs": [],
   "source": [
    "files_path = '../../Data/network_traffic/no_filter/'\n",
    "filtered_files_path = '../../Data/network_traffic/opcua_filter/'\n",
    "performance_files_path = '../../Data/get_performance/'"
   ]
  },
  {
   "cell_type": "code",
   "execution_count": 3,
   "metadata": {},
   "outputs": [],
   "source": [
    "pcapng_list = [\n",
    "    '0-dos_certificate_inf_chain_loop.pcapng',\n",
    "    '0-dos_function_call_null_deref.pcapng',\n",
    "    '0-dos_hping3.pcapng',\n",
    "    '0-dos_open_multiple_secure_channels.pcapng',\n",
    "    '0-dos_translate_browse_path_call_stack_overflow.pcapng',\n",
    "    '0-mitm_arp.pcapng',\n",
    "    '0-mitm_port.pcapng',\n",
    "    '0-normal_local_server.pcapng',\n",
    "    '0-sniffing.pcapng',\n",
    "    '1-dos_certificate_inf_chain_loop.pcapng',\n",
    "    '1-dos_function_call_null_deref.pcapng',\n",
    "    '1-dos_hping3.pcapng',\n",
    "    '1-dos_open_multiple_secure_channels.pcapng',\n",
    "    '1-dos_translate_browse_path_call_stack_overflow.pcapng',\n",
    "    '1-mitm_arp.pcapng',\n",
    "    '1-mitm_port.pcapng',\n",
    "    '1-normal_local_server.pcapng',\n",
    "    '1-sniffing.pcapng',\n",
    "    '2-dos_certificate_inf_chain_loop.pcapng',\n",
    "    '2-dos_function_call_null_deref.pcapng',\n",
    "    '2-dos_hping3.pcapng',\n",
    "    '2-dos_open_multiple_secure_channels.pcapng',\n",
    "    '2-dos_translate_browse_path_call_stack_overflow.pcapng',\n",
    "    '2-mitm_arp.pcapng',\n",
    "    '2-mitm_port.pcapng',\n",
    "    '2-normal_local_server.pcapng',\n",
    "    '2-sniffing.pcapng',\n",
    "]\n",
    "\n",
    "pcapng_filtered_list = [\n",
    "    '0-dos_certificate_inf_chain_loop-filtered.pcapng',\n",
    "    '0-dos_function_call_null_deref-filtered.pcapng',\n",
    "    '0-dos_hping3-filtered.pcapng',\n",
    "    '0-dos_open_multiple_secure_channels-filtered.pcapng',\n",
    "    '0-dos_translate_browse_path_call_stack_overflow-filtered.pcapng',\n",
    "    '0-mitm_arp-filtered.pcapng',\n",
    "    '0-mitm_port-filtered.pcapng',\n",
    "    '0-normal_local_server-filtered.pcapng',\n",
    "    '0-sniffing-filtered.pcapng',\n",
    "    '1-dos_certificate_inf_chain_loop-filtered.pcapng',\n",
    "    '1-dos_function_call_null_deref-filtered.pcapng',\n",
    "    '1-dos_hping3-filtered.pcapng',\n",
    "    '1-dos_open_multiple_secure_channels-filtered.pcapng',\n",
    "    '1-dos_translate_browse_path_call_stack_overflow-filtered.pcapng',\n",
    "    '1-mitm_arp-filtered.pcapng',\n",
    "    '1-mitm_port-filtered.pcapng',\n",
    "    '1-normal_local_server-filtered.pcapng',\n",
    "    '1-sniffing-filtered.pcapng',\n",
    "    '2-dos_certificate_inf_chain_loop-filtered.pcapng',\n",
    "    '2-dos_function_call_null_deref-filtered.pcapng',\n",
    "    '2-dos_hping3-filtered.pcapng',\n",
    "    '2-dos_open_multiple_secure_channels-filtered.pcapng',\n",
    "    '2-dos_translate_browse_path_call_stack_overflow-filtered.pcapng',\n",
    "    '2-mitm_arp-filtered.pcapng',\n",
    "    '2-mitm_port-filtered.pcapng',\n",
    "    '2-normal_local_server-filtered.pcapng',\n",
    "    '2-sniffing-filtered.pcapng',\n",
    "]"
   ]
  },
  {
   "cell_type": "code",
   "execution_count": 4,
   "metadata": {},
   "outputs": [],
   "source": [
    "csv_list = [\n",
    "    '0-dos_certificate_inf_chain_loop.csv',\n",
    "    '0-dos_function_call_null_deref.csv',\n",
    "    '0-dos_hping3.csv',\n",
    "    '0-dos_open_multiple_secure_channels.csv',\n",
    "    '0-dos_translate_browse_path_call_stack_overflow.csv',\n",
    "    '0-mitm_arp.csv',\n",
    "    '0-mitm_port.csv',\n",
    "    '0-normal_local_server.csv',\n",
    "    '0-sniffing.csv',\n",
    "    '1-dos_certificate_inf_chain_loop.csv',\n",
    "    '1-dos_function_call_null_deref.csv',\n",
    "    '1-dos_hping3.csv',\n",
    "    '1-dos_open_multiple_secure_channels.csv',\n",
    "    '1-dos_translate_browse_path_call_stack_overflow.csv',\n",
    "    '1-mitm_arp.csv',\n",
    "    '1-mitm_port.csv',\n",
    "    '1-normal_local_server.csv',\n",
    "    '1-sniffing.csv',\n",
    "    '2-dos_certificate_inf_chain_loop.csv',\n",
    "    '2-dos_function_call_null_deref.csv',\n",
    "    '2-dos_hping3.csv',\n",
    "    '2-dos_open_multiple_secure_channels.csv',\n",
    "    '2-dos_translate_browse_path_call_stack_overflow.csv',\n",
    "    '2-mitm_arp.csv',\n",
    "    '2-mitm_port.csv',\n",
    "    '2-normal_local_server.csv',\n",
    "    '2-sniffing.csv',\n",
    "]\n",
    "\n",
    "csv_filtered_list = [\n",
    "    '0-dos_certificate_inf_chain_loop-filtered.csv',\n",
    "    '0-dos_function_call_null_deref-filtered.csv',\n",
    "    '0-dos_hping3-filtered.csv',\n",
    "    '0-dos_open_multiple_secure_channels-filtered.csv',\n",
    "    '0-dos_translate_browse_path_call_stack_overflow-filtered.csv',\n",
    "    '0-mitm_arp-filtered.csv',\n",
    "    '0-mitm_port-filtered.csv',\n",
    "    '0-normal_local_server-filtered.csv',\n",
    "    '0-sniffing-filtered.csv',\n",
    "    '1-dos_certificate_inf_chain_loop-filtered.csv',\n",
    "    '1-dos_function_call_null_deref-filtered.csv',\n",
    "    '1-dos_hping3-filtered.csv',\n",
    "    '1-dos_open_multiple_secure_channels-filtered.csv',\n",
    "    '1-dos_translate_browse_path_call_stack_overflow-filtered.csv',\n",
    "    '1-mitm_arp-filtered.csv',\n",
    "    '1-mitm_port-filtered.csv',\n",
    "    '1-normal_local_server-filtered.csv',\n",
    "    '1-sniffing-filtered.csv',\n",
    "    '2-dos_certificate_inf_chain_loop-filtered.csv',\n",
    "    '2-dos_function_call_null_deref-filtered.csv',\n",
    "    '2-dos_hping3-filtered.csv',\n",
    "    '2-dos_open_multiple_secure_channels-filtered.csv',\n",
    "    '2-dos_translate_browse_path_call_stack_overflow-filtered.csv',\n",
    "    '2-mitm_arp-filtered.csv',\n",
    "    '2-mitm_port-filtered.csv',\n",
    "    '2-normal_local_server-filtered.csv',\n",
    "    '2-sniffing-filtered.csv',\n",
    "]"
   ]
  },
  {
   "cell_type": "code",
   "execution_count": 9,
   "metadata": {},
   "outputs": [],
   "source": [
    "performance_list = [\n",
    "    '0-dos_certificate_inf_chain_loop.csv',\n",
    "    '0-dos_function_call_null_deref.csv',\n",
    "    '0-dos_hping3.csv',\n",
    "    '0-dos_open_multiple_secure_channels.csv',\n",
    "    '0-dos_translate_browse_path_call_stack_overflow.csv',\n",
    "    '0-mitm_arp.csv',\n",
    "    '0-mitm_port.csv',\n",
    "    '0-normal_local_server.csv',\n",
    "    '1-dos_certificate_inf_chain_loop.csv',\n",
    "    '1-dos_function_call_null_deref.csv',\n",
    "    '1-dos_hping3.csv',\n",
    "    '1-dos_open_multiple_secure_channels.csv',\n",
    "    '1-dos_translate_browse_path_call_stack_overflow.csv',\n",
    "    '1-mitm_arp.csv',\n",
    "    '1-mitm_port.csv',\n",
    "    '1-normal_local_server.csv',\n",
    "    '2-dos_certificate_inf_chain_loop.csv',\n",
    "    '2-dos_function_call_null_deref.csv',\n",
    "    '2-dos_hping3.csv',\n",
    "    '2-dos_open_multiple_secure_channels.csv',\n",
    "    '2-dos_translate_browse_path_call_stack_overflow.csv',\n",
    "    '2-mitm_arp.csv',\n",
    "    '2-mitm_port.csv',\n",
    "    '2-normal_local_server.csv',\n",
    "]"
   ]
  },
  {
   "cell_type": "markdown",
   "metadata": {},
   "source": [
    "## Pre-processing\n",
    "\n",
    "### Functions"
   ]
  },
  {
   "cell_type": "code",
   "execution_count": 6,
   "metadata": {},
   "outputs": [],
   "source": [
    "def create_concat_dataframe(path: str, files_list: list) -> pd.DataFrame:\n",
    "    dfs = []\n",
    "\n",
    "    for elem in files_list:\n",
    "        file_parts = elem.split(\"-\")\n",
    "        file_type = int(file_parts[0])\n",
    "        file_name = file_parts[1].split(\".\")[0]\n",
    "        \n",
    "        df = pd.read_csv(path+elem)\n",
    "        df_new = pd.DataFrame()\n",
    "        df_new['Type'] = [file_type] * len(df)\n",
    "        df_new['Name'] = [file_name] * len(df)\n",
    "        \n",
    "        df = pd.concat([df_new, df], axis=1)\n",
    "        \n",
    "        dfs.append(df)\n",
    "\n",
    "    network_traffic = pd.concat(dfs, ignore_index=True)\n",
    "\n",
    "    return network_traffic"
   ]
  },
  {
   "cell_type": "code",
   "execution_count": 7,
   "metadata": {},
   "outputs": [],
   "source": [
    "def create_separated_dataframe(path: str, csv_file: str) -> pd.DataFrame:\n",
    "    file_parts = csv_file.split(\"-\")\n",
    "    file_type = int(file_parts[0])\n",
    "    file_name = file_parts[1].split(\".\")[0]\n",
    "    \n",
    "    df = pd.read_csv(path+csv_file)\n",
    "    df_new = pd.DataFrame()\n",
    "    df_new['Type'] = [file_type] * len(df)\n",
    "    df_new['Name'] = [file_name] * len(df)\n",
    "    \n",
    "    df = pd.concat([df_new, df], axis=1)\n",
    "\n",
    "    return df"
   ]
  },
  {
   "cell_type": "markdown",
   "metadata": {},
   "source": [
    "### Initialize Dataframes"
   ]
  },
  {
   "cell_type": "code",
   "execution_count": 15,
   "metadata": {},
   "outputs": [],
   "source": [
    "network_traffic_filtered = create_concat_dataframe(filtered_files_path, csv_filtered_list)\n",
    "network_traffic_filtered = network_traffic_filtered[network_traffic_filtered['Time'] <= 60.000000]"
   ]
  },
  {
   "cell_type": "code",
   "execution_count": 16,
   "metadata": {},
   "outputs": [],
   "source": [
    "network_traffic_no_filter = create_concat_dataframe(files_path, csv_list)\n",
    "network_traffic_no_filter = network_traffic_no_filter[network_traffic_no_filter['Time'] <= 60.000000]\n",
    "performance_results = create_concat_dataframe(performance_files_path, performance_list)"
   ]
  },
  {
   "cell_type": "markdown",
   "metadata": {},
   "source": [
    "#### Create separated dataframes for each scenario"
   ]
  },
  {
   "cell_type": "code",
   "execution_count": 12,
   "metadata": {},
   "outputs": [],
   "source": [
    "# separated_dataframes = {}\n",
    "\n",
    "# for csv_file in csv_list:\n",
    "#     df_name = csv_file.split(\".\")[0]\n",
    "#     aux_df = create_separated_dataframe(files_path, csv_file)\n",
    "#     separated_dataframes[df_name] = aux_df\n",
    "\n",
    "# network_traffic_no_filter = separated_dataframes['0-dos_certificate_inf_chain_loop']\n",
    "# performance_results = separated_dataframes['0-dos_function_call_null_deref']\n",
    "\n",
    "# network_traffic_no_filter = network_traffic_no_filter[network_traffic_no_filter['Time'] <= 60.000000]  # Prune the data to only include 1 minute\n",
    "# performance_results = create_separated_dataframe(performance_files_path, performance_list)"
   ]
  },
  {
   "cell_type": "code",
   "execution_count": 25,
   "metadata": {},
   "outputs": [
    {
     "name": "stdout",
     "output_type": "stream",
     "text": [
      "<class 'pandas.core.frame.DataFrame'>\n",
      "Index: 7885078 entries, 0 to 9949868\n",
      "Data columns (total 9 columns):\n",
      " #   Column       Dtype  \n",
      "---  ------       -----  \n",
      " 0   Type         int64  \n",
      " 1   Name         object \n",
      " 2   No.          int64  \n",
      " 3   Time         float64\n",
      " 4   Source       object \n",
      " 5   Destination  object \n",
      " 6   Protocol     object \n",
      " 7   Length       int64  \n",
      " 8   Info         object \n",
      "dtypes: float64(1), int64(3), object(5)\n",
      "memory usage: 601.6+ MB\n"
     ]
    }
   ],
   "source": [
    "network_traffic_no_filter.info()"
   ]
  },
  {
   "cell_type": "markdown",
   "metadata": {},
   "source": [
    "## Queries"
   ]
  },
  {
   "cell_type": "code",
   "execution_count": 35,
   "metadata": {},
   "outputs": [],
   "source": [
    "# attack_name = 'dos_certificate_inf_chain_loop'\n",
    "# attack_name = 'dos_function_call_null_deref'\n",
    "attack_name = 'dos_hping3'\n",
    "# attack_name = 'dos_open_multiple_secure_channels'\n",
    "# attack_name = 'dos_translate_browse_path_call_stack_overflow'\n",
    "# attack_name = 'mitm_arp'\n",
    "# attack_name = 'mitm_port'\n",
    "# attack_name = 'normal_local_server'\n",
    "# attack_name = 'sniffing'"
   ]
  },
  {
   "cell_type": "code",
   "execution_count": 36,
   "metadata": {},
   "outputs": [],
   "source": [
    "attack_no_filter_0 = network_traffic_no_filter[(network_traffic_no_filter['Type'] == 0) & (network_traffic_no_filter['Name'] == attack_name)]\n",
    "attack_no_filter_1 = network_traffic_no_filter[(network_traffic_no_filter['Type'] == 1) & (network_traffic_no_filter['Name'] == attack_name)]\n",
    "attack_no_filter_2 = network_traffic_no_filter[(network_traffic_no_filter['Type'] == 2) & (network_traffic_no_filter['Name'] == attack_name)]\n",
    "attack_filtered_0 = network_traffic_filtered[(network_traffic_filtered['Type'] == 0) & (network_traffic_filtered['Name'] == attack_name)]\n",
    "attack_filtered_1 = network_traffic_filtered[(network_traffic_filtered['Type'] == 1) & (network_traffic_filtered['Name'] == attack_name)]\n",
    "attack_filtered_2 = network_traffic_filtered[(network_traffic_filtered['Type'] == 2) & (network_traffic_filtered['Name'] == attack_name)]\n",
    "\n",
    "# plt.figure()\n",
    "# plt.plot(scenario_data['Time'], scenario_data['Data'], label=f'Scenario {scenario}')\n",
    "# plt.xlabel('Time')\n",
    "# plt.ylabel('Data')\n",
    "# plt.title(f'Scenario {scenario} Data')\n",
    "# plt.legend()\n",
    "# plt.show()\n",
    "\n",
    "# Compare data from different scenarios\n",
    "# plt.figure()\n",
    "# for scenario in range(3):\n",
    "#     scenario_data = network_traffic_no_filter[network_traffic_no_filter['Type'] == scenario]\n",
    "    \n",
    "#     # Plot the data\n",
    "#     plt.plot(scenario_data['Time'], scenario_data['Data'], label=f'Scenario {scenario}')\n",
    "# plt.xlabel('Time')\n",
    "# plt.ylabel('Data')\n",
    "# plt.title('Comparison of Data from Different Scenarios')\n",
    "# plt.legend()\n",
    "# plt.show()\n"
   ]
  },
  {
   "cell_type": "code",
   "execution_count": 37,
   "metadata": {},
   "outputs": [
    {
     "data": {
      "image/png": "[encoded data removed]",
      "text/plain": [
       "<Figure size 640x480 with 1 Axes>"
      ]
     },
     "metadata": {},
     "output_type": "display_data"
    }
   ],
   "source": [
    "plt.figure()\n",
    "plt.plot(attack_no_filter_0['Time'], attack_no_filter_0['Length'], label=f'Scenario: {attack_name}')\n",
    "plt.xlabel('Time')\n",
    "plt.ylabel('Length')\n",
    "plt.title(f'Scenario {attack_name} Data')\n",
    "plt.legend()\n",
    "plt.show()"
   ]
  }
 ],
 "metadata": {
  "kernelspec": {
   "display_name": ".venv",
   "language": "python",
   "name": "python3"
  },
  "language_info": {
   "codemirror_mode": {
    "name": "ipython",
    "version": 3
   },
   "file_extension": ".py",
   "mimetype": "text/x-python",
   "name": "python",
   "nbconvert_exporter": "python",
   "pygments_lexer": "ipython3",
   "version": "3.11.1"
  }
 },
 "nbformat": 4,
 "nbformat_minor": 2
}
