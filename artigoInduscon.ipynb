{
 "cells": [
  {
   "attachments": {},
   "cell_type": "markdown",
   "metadata": {},
   "source": [
    "# Artigo Induscon 2023"
   ]
  },
  {
   "attachments": {},
   "cell_type": "markdown",
   "metadata": {},
   "source": [
    "## Pre processamento\n",
    "\n",
    "Pré-processamento dos dados de pesquisa no IEEE Xplore obtidos com os seguintes filtros:\n",
    "\n",
    "- Search terms: \"OPC UA\"\n",
    "- Language: English\n",
    "- Date range: Last 5 years"
   ]
  },
  {
   "attachments": {},
   "cell_type": "markdown",
   "metadata": {},
   "source": [
    "#### Importação dos pacotes"
   ]
  },
  {
   "cell_type": "code",
   "execution_count": 116,
   "metadata": {},
   "outputs": [],
   "source": [
    "import numpy as np\n",
    "import matplotlib.pyplot as plt\n",
    "import pandas as pd\n",
    "import seaborn as sns\n",
    "\n",
    "%matplotlib inline"
   ]
  },
  {
   "attachments": {},
   "cell_type": "markdown",
   "metadata": {},
   "source": [
    "#### Carregando as bases de dados"
   ]
  },
  {
   "attachments": {},
   "cell_type": "markdown",
   "metadata": {},
   "source": [
    "Base dos dados obtidos na primeira pesquisa já classificados."
   ]
  },
  {
   "cell_type": "code",
   "execution_count": 117,
   "metadata": {},
   "outputs": [
    {
     "data": {
      "text/html": [
       "<div>\n",
       "<style scoped>\n",
       "    .dataframe tbody tr th:only-of-type {\n",
       "        vertical-align: middle;\n",
       "    }\n",
       "\n",
       "    .dataframe tbody tr th {\n",
       "        vertical-align: top;\n",
       "    }\n",
       "\n",
       "    .dataframe thead th {\n",
       "        text-align: right;\n",
       "    }\n",
       "</style>\n",
       "<table border=\"1\" class=\"dataframe\">\n",
       "  <thead>\n",
       "    <tr style=\"text-align: right;\">\n",
       "      <th></th>\n",
       "      <th>Category</th>\n",
       "      <th>Document Title</th>\n",
       "      <th>Authors</th>\n",
       "      <th>Publication Title</th>\n",
       "      <th>Publication Year</th>\n",
       "      <th>Abstract</th>\n",
       "      <th>Author Keywords</th>\n",
       "      <th>IEEE Terms</th>\n",
       "      <th>Document Identifier</th>\n",
       "    </tr>\n",
       "  </thead>\n",
       "  <tbody>\n",
       "    <tr>\n",
       "      <th>2</th>\n",
       "      <td>[Product Development (PD)]</td>\n",
       "      <td>Towards a Web-of-Things Approach for OPC UA Fi...</td>\n",
       "      <td>[Q. -D. Nguyen,  S. Dhouib,  J. -P. Chanet,  P...</td>\n",
       "      <td>2022 IEEE 18th International Conference on Fac...</td>\n",
       "      <td>2022</td>\n",
       "      <td>In the opc UA standard, the opc UA information...</td>\n",
       "      <td>Industry;Internet of Things;OPC UA;Web of Thin...</td>\n",
       "      <td>Runtime;Conferences;Semantics;Manuals;Producti...</td>\n",
       "      <td>IEEE Conferences</td>\n",
       "    </tr>\n",
       "    <tr>\n",
       "      <th>3</th>\n",
       "      <td>[Redundancy and Availability (RA)]</td>\n",
       "      <td>Practical Implementation of an OPC UA Multi-Se...</td>\n",
       "      <td>[C. Pu,  X. Ding,  P. Wang,  Y. Yang]</td>\n",
       "      <td>2022 IEEE International Conferences on Interne...</td>\n",
       "      <td>2022</td>\n",
       "      <td>The Open Platform Communication Unified Archit...</td>\n",
       "      <td>automated industry;OPC UA;TSN;server aggregation</td>\n",
       "      <td>Social computing;Data security;Configuration m...</td>\n",
       "      <td>IEEE Conferences</td>\n",
       "    </tr>\n",
       "  </tbody>\n",
       "</table>\n",
       "</div>"
      ],
      "text/plain": [
       "                             Category   \n",
       "2          [Product Development (PD)]  \\\n",
       "3  [Redundancy and Availability (RA)]   \n",
       "\n",
       "                                      Document Title   \n",
       "2  Towards a Web-of-Things Approach for OPC UA Fi...  \\\n",
       "3  Practical Implementation of an OPC UA Multi-Se...   \n",
       "\n",
       "                                             Authors   \n",
       "2  [Q. -D. Nguyen,  S. Dhouib,  J. -P. Chanet,  P...  \\\n",
       "3              [C. Pu,  X. Ding,  P. Wang,  Y. Yang]   \n",
       "\n",
       "                                   Publication Title  Publication Year   \n",
       "2  2022 IEEE 18th International Conference on Fac...              2022  \\\n",
       "3  2022 IEEE International Conferences on Interne...              2022   \n",
       "\n",
       "                                            Abstract   \n",
       "2  In the opc UA standard, the opc UA information...  \\\n",
       "3  The Open Platform Communication Unified Archit...   \n",
       "\n",
       "                                     Author Keywords   \n",
       "2  Industry;Internet of Things;OPC UA;Web of Thin...  \\\n",
       "3   automated industry;OPC UA;TSN;server aggregation   \n",
       "\n",
       "                                          IEEE Terms Document Identifier  \n",
       "2  Runtime;Conferences;Semantics;Manuals;Producti...    IEEE Conferences  \n",
       "3  Social computing;Data security;Configuration m...    IEEE Conferences  "
      ]
     },
     "execution_count": 117,
     "metadata": {},
     "output_type": "execute_result"
    }
   ],
   "source": [
    "df = pd.read_excel('Build/opcua5years_pre2.xlsm')\n",
    "drop_labels = ['Author Affiliations','Date Added To Xplore','Volume',\n",
    "               'Issue','Start Page','End Page','ISSN','ISBNs','DOI',\n",
    "               'Funding Information','PDF Link','INSPEC Controlled Terms',\n",
    "               'INSPEC Non-Controlled Terms','Mesh_Terms','Article Citation Count',\n",
    "               'Patent Citation Count','Reference Count','License','Online Date',\n",
    "               'Issue Date','Meeting Date','Publisher']\n",
    "classified = df.drop(labels=drop_labels, axis=1)\n",
    "classified['Category'] = list(classified['Category'].str.split(\";\", expand=False))\n",
    "classified['Authors'] = list(classified['Authors'].str.split(\";\", expand=False))\n",
    "classified.index += 2\n",
    "classified.head(2)"
   ]
  },
  {
   "attachments": {},
   "cell_type": "markdown",
   "metadata": {},
   "source": [
    "Base de dados obtida na segunda pesquisa, com os seguintes filtros:\n",
    "\n",
    "- Search terms: \"OPC UA\" in Author Keywords\n",
    "- Language: English\n",
    "- Date range: Last 5 years"
   ]
  },
  {
   "cell_type": "code",
   "execution_count": 118,
   "metadata": {},
   "outputs": [],
   "source": [
    "df = pd.read_csv('Build/opcua5years_keywords.csv')\n",
    "new_query = df.drop(labels=drop_labels+['Authors','Publication Title','Publication Year','Abstract','Author Keywords','IEEE Terms','Document Identifier'], axis=1)\n",
    "new_query_titles = new_query['Document Title'].tolist()"
   ]
  },
  {
   "attachments": {},
   "cell_type": "markdown",
   "metadata": {},
   "source": [
    "Dataframe com a base de dados já classificada e filtrada para aquelas que apenas tem OPC UA no Author Keywords"
   ]
  },
  {
   "cell_type": "code",
   "execution_count": 119,
   "metadata": {},
   "outputs": [
    {
     "name": "stdout",
     "output_type": "stream",
     "text": [
      "<class 'pandas.core.frame.DataFrame'>\n",
      "Index: 252 entries, 2 to 326\n",
      "Data columns (total 9 columns):\n",
      " #   Column               Non-Null Count  Dtype \n",
      "---  ------               --------------  ----- \n",
      " 0   Category             252 non-null    object\n",
      " 1   Document Title       252 non-null    object\n",
      " 2   Authors              252 non-null    object\n",
      " 3   Publication Title    252 non-null    object\n",
      " 4   Publication Year     252 non-null    int64 \n",
      " 5   Abstract             252 non-null    object\n",
      " 6   Author Keywords      252 non-null    object\n",
      " 7   IEEE Terms           235 non-null    object\n",
      " 8   Document Identifier  252 non-null    object\n",
      "dtypes: int64(1), object(8)\n",
      "memory usage: 19.7+ KB\n"
     ]
    }
   ],
   "source": [
    "filtered_classified = classified[classified['Document Title'].isin(new_query_titles)]\n",
    "filtered_classified.to_csv('filtered_classified.csv',sep=',',encoding='UTF-8')\n",
    "filtered_classified.info()"
   ]
  },
  {
   "attachments": {},
   "cell_type": "markdown",
   "metadata": {},
   "source": [
    "Separação dos dados em categorias (EXPLODE)"
   ]
  },
  {
   "cell_type": "code",
   "execution_count": 120,
   "metadata": {},
   "outputs": [],
   "source": [
    "def explode(df, lst_cols, fill_value='', preserve_index=False):\n",
    "    if (lst_cols is not None\n",
    "        and len(lst_cols) > 0\n",
    "        and not isinstance(lst_cols, (list, tuple, np.ndarray, pd.Series))):\n",
    "        lst_cols = [lst_cols]\n",
    "    idx_cols = df.columns.difference(lst_cols)\n",
    "    lens = df[lst_cols[0]].str.len()\n",
    "    idx = np.repeat(df.index.values, lens)\n",
    "    res = (pd.DataFrame({\n",
    "                col:np.repeat(df[col].values, lens)\n",
    "                for col in idx_cols},\n",
    "                index=idx)\n",
    "             .assign(**{col:np.concatenate(df.loc[lens>0, col].values)\n",
    "                            for col in lst_cols}))\n",
    "    if (lens == 0).any():\n",
    "        res = (res.append(df.loc[lens==0, idx_cols], sort=False)\n",
    "                  .fillna(fill_value))\n",
    "    res = res.sort_index()\n",
    "    if not preserve_index:\n",
    "        res = res.reset_index(drop=True)\n",
    "    return res"
   ]
  },
  {
   "cell_type": "code",
   "execution_count": 121,
   "metadata": {},
   "outputs": [
    {
     "data": {
      "text/plain": [
       "Category\n",
       "Product Development (PD)            110\n",
       "Integration (I)                      58\n",
       "Others (O)                           54\n",
       "Performance Analysis (PA)            41\n",
       "Diagnostic and Monitoring (DM)       39\n",
       "Protocol Comparison (PC)             36\n",
       "Wireless Communication (W)           26\n",
       "Theory (T)                           25\n",
       "Security (S)                         23\n",
       "Redundancy and Availability (RA)      9\n",
       "Name: count, dtype: int64"
      ]
     },
     "execution_count": 121,
     "metadata": {},
     "output_type": "execute_result"
    }
   ],
   "source": [
    "classified_explode_categories = filtered_classified.explode('Category')\n",
    "classified_explode_categories['Category'].value_counts()"
   ]
  },
  {
   "cell_type": "markdown",
   "metadata": {},
   "source": [
    "## Consultas\n",
    "\n",
    "Realizar as consultas na base para construir tabelas e gráficos da seção **Quantitative Analysis**"
   ]
  },
  {
   "attachments": {},
   "cell_type": "markdown",
   "metadata": {},
   "source": [
    "#### Número de publicações relacionadas com OPC UA por ano"
   ]
  },
  {
   "cell_type": "code",
   "execution_count": 122,
   "metadata": {},
   "outputs": [
    {
     "data": {
      "image/png": "[encoded data removed]",
      "text/plain": [
       "<Figure size 600x400 with 1 Axes>"
      ]
     },
     "metadata": {},
     "output_type": "display_data"
    }
   ],
   "source": [
    "grouped = filtered_classified.groupby(['Publication Year', 'Document Identifier']).size().reset_index(name='Count')\n",
    "pivot = grouped.pivot(index='Publication Year', columns='Document Identifier', values='Count')\n",
    "plt.figure(figsize=(6, 4))\n",
    "# lines = pivot.plot(kind='line',linewidth=3)\n",
    "plt.plot(pivot.index, pivot['IEEE Conferences'], linestyle='--', color='black', linewidth=3, label='Conference')\n",
    "plt.plot(pivot.index, pivot['IEEE Journals'], linestyle='-', color='black', linewidth=3, label='Journal')\n",
    "plt.xlabel('Year')\n",
    "plt.ylabel('Number of Publications')\n",
    "plt.legend(title='', loc='upper right')\n",
    "plt.show()"
   ]
  },
  {
   "attachments": {},
   "cell_type": "markdown",
   "metadata": {},
   "source": [
    "#### Quantidade de artigos por categorias (Tabela)"
   ]
  },
  {
   "cell_type": "code",
   "execution_count": 123,
   "metadata": {},
   "outputs": [
    {
     "data": {
      "text/html": [
       "<div>\n",
       "<style scoped>\n",
       "    .dataframe tbody tr th:only-of-type {\n",
       "        vertical-align: middle;\n",
       "    }\n",
       "\n",
       "    .dataframe tbody tr th {\n",
       "        vertical-align: top;\n",
       "    }\n",
       "\n",
       "    .dataframe thead th {\n",
       "        text-align: right;\n",
       "    }\n",
       "</style>\n",
       "<table border=\"1\" class=\"dataframe\">\n",
       "  <thead>\n",
       "    <tr style=\"text-align: right;\">\n",
       "      <th>Category</th>\n",
       "      <th>Diagnostic and Monitoring (DM)</th>\n",
       "      <th>Integration (I)</th>\n",
       "      <th>Others (O)</th>\n",
       "      <th>Performance Analysis (PA)</th>\n",
       "      <th>Product Development (PD)</th>\n",
       "      <th>Protocol Comparison (PC)</th>\n",
       "      <th>Redundancy and Availability (RA)</th>\n",
       "      <th>Security (S)</th>\n",
       "      <th>Theory (T)</th>\n",
       "      <th>Wireless Communication (W)</th>\n",
       "    </tr>\n",
       "    <tr>\n",
       "      <th>Publication Year</th>\n",
       "      <th></th>\n",
       "      <th></th>\n",
       "      <th></th>\n",
       "      <th></th>\n",
       "      <th></th>\n",
       "      <th></th>\n",
       "      <th></th>\n",
       "      <th></th>\n",
       "      <th></th>\n",
       "      <th></th>\n",
       "    </tr>\n",
       "  </thead>\n",
       "  <tbody>\n",
       "    <tr>\n",
       "      <th>2018</th>\n",
       "      <td>6.0</td>\n",
       "      <td>11.0</td>\n",
       "      <td>7.0</td>\n",
       "      <td>6.0</td>\n",
       "      <td>19.0</td>\n",
       "      <td>3.0</td>\n",
       "      <td>2.0</td>\n",
       "      <td>3.0</td>\n",
       "      <td>3.0</td>\n",
       "      <td>1.0</td>\n",
       "    </tr>\n",
       "    <tr>\n",
       "      <th>2019</th>\n",
       "      <td>10.0</td>\n",
       "      <td>13.0</td>\n",
       "      <td>16.0</td>\n",
       "      <td>9.0</td>\n",
       "      <td>28.0</td>\n",
       "      <td>9.0</td>\n",
       "      <td>1.0</td>\n",
       "      <td>6.0</td>\n",
       "      <td>6.0</td>\n",
       "      <td>8.0</td>\n",
       "    </tr>\n",
       "    <tr>\n",
       "      <th>2020</th>\n",
       "      <td>15.0</td>\n",
       "      <td>15.0</td>\n",
       "      <td>19.0</td>\n",
       "      <td>8.0</td>\n",
       "      <td>22.0</td>\n",
       "      <td>11.0</td>\n",
       "      <td>3.0</td>\n",
       "      <td>5.0</td>\n",
       "      <td>6.0</td>\n",
       "      <td>6.0</td>\n",
       "    </tr>\n",
       "    <tr>\n",
       "      <th>2021</th>\n",
       "      <td>3.0</td>\n",
       "      <td>11.0</td>\n",
       "      <td>3.0</td>\n",
       "      <td>11.0</td>\n",
       "      <td>20.0</td>\n",
       "      <td>6.0</td>\n",
       "      <td>1.0</td>\n",
       "      <td>4.0</td>\n",
       "      <td>4.0</td>\n",
       "      <td>6.0</td>\n",
       "    </tr>\n",
       "    <tr>\n",
       "      <th>2022</th>\n",
       "      <td>5.0</td>\n",
       "      <td>7.0</td>\n",
       "      <td>9.0</td>\n",
       "      <td>7.0</td>\n",
       "      <td>21.0</td>\n",
       "      <td>7.0</td>\n",
       "      <td>2.0</td>\n",
       "      <td>5.0</td>\n",
       "      <td>6.0</td>\n",
       "      <td>4.0</td>\n",
       "    </tr>\n",
       "    <tr>\n",
       "      <th>2023</th>\n",
       "      <td>NaN</td>\n",
       "      <td>1.0</td>\n",
       "      <td>NaN</td>\n",
       "      <td>NaN</td>\n",
       "      <td>NaN</td>\n",
       "      <td>NaN</td>\n",
       "      <td>NaN</td>\n",
       "      <td>NaN</td>\n",
       "      <td>NaN</td>\n",
       "      <td>1.0</td>\n",
       "    </tr>\n",
       "  </tbody>\n",
       "</table>\n",
       "</div>"
      ],
      "text/plain": [
       "Category          Diagnostic and Monitoring (DM)  Integration (I)  Others (O)   \n",
       "Publication Year                                                                \n",
       "2018                                         6.0             11.0         7.0  \\\n",
       "2019                                        10.0             13.0        16.0   \n",
       "2020                                        15.0             15.0        19.0   \n",
       "2021                                         3.0             11.0         3.0   \n",
       "2022                                         5.0              7.0         9.0   \n",
       "2023                                         NaN              1.0         NaN   \n",
       "\n",
       "Category          Performance Analysis (PA)  Product Development (PD)   \n",
       "Publication Year                                                        \n",
       "2018                                    6.0                      19.0  \\\n",
       "2019                                    9.0                      28.0   \n",
       "2020                                    8.0                      22.0   \n",
       "2021                                   11.0                      20.0   \n",
       "2022                                    7.0                      21.0   \n",
       "2023                                    NaN                       NaN   \n",
       "\n",
       "Category          Protocol Comparison (PC)  Redundancy and Availability (RA)   \n",
       "Publication Year                                                               \n",
       "2018                                   3.0                               2.0  \\\n",
       "2019                                   9.0                               1.0   \n",
       "2020                                  11.0                               3.0   \n",
       "2021                                   6.0                               1.0   \n",
       "2022                                   7.0                               2.0   \n",
       "2023                                   NaN                               NaN   \n",
       "\n",
       "Category          Security (S)  Theory (T)  Wireless Communication (W)  \n",
       "Publication Year                                                        \n",
       "2018                       3.0         3.0                         1.0  \n",
       "2019                       6.0         6.0                         8.0  \n",
       "2020                       5.0         6.0                         6.0  \n",
       "2021                       4.0         4.0                         6.0  \n",
       "2022                       5.0         6.0                         4.0  \n",
       "2023                       NaN         NaN                         1.0  "
      ]
     },
     "execution_count": 123,
     "metadata": {},
     "output_type": "execute_result"
    }
   ],
   "source": [
    "grouped = classified_explode_categories.groupby(['Publication Year', 'Category']).size().reset_index(name='Count')\n",
    "pivot = grouped.pivot(index='Publication Year', columns='Category', values='Count')\n",
    "pivot"
   ]
  }
 ],
 "metadata": {
  "kernelspec": {
   "display_name": "Python 3",
   "language": "python",
   "name": "python3"
  },
  "language_info": {
   "codemirror_mode": {
    "name": "ipython",
    "version": 3
   },
   "file_extension": ".py",
   "mimetype": "text/x-python",
   "name": "python",
   "nbconvert_exporter": "python",
   "pygments_lexer": "ipython3",
   "version": "3.11.1"
  },
  "orig_nbformat": 4,
  "vscode": {
   "interpreter": {
    "hash": "11aeceda34d22bd7fc24ada2418dd5d67b02f19dc89f08ce97274e9826c8cecb"
   }
  }
 },
 "nbformat": 4,
 "nbformat_minor": 2
}
