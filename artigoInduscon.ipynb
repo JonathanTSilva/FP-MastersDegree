{
 "cells": [
  {
   "attachments": {},
   "cell_type": "markdown",
   "metadata": {},
   "source": [
    "# Artigo Induscon 2023"
   ]
  },
  {
   "attachments": {},
   "cell_type": "markdown",
   "metadata": {},
   "source": [
    "## Pre processamento\n",
    "\n",
    "Pré-processamento dos dados de pesquisa no IEEE Xplore obtidos com os seguintes filtros:\n",
    "\n",
    "- Search terms: \"OPC UA\"\n",
    "- Language: English\n",
    "- Date range: Last 5 years"
   ]
  },
  {
   "attachments": {},
   "cell_type": "markdown",
   "metadata": {},
   "source": [
    "#### Importação dos pacotes"
   ]
  },
  {
   "cell_type": "code",
   "execution_count": 1,
   "metadata": {},
   "outputs": [],
   "source": [
    "import numpy as np\n",
    "import matplotlib.pyplot as plt\n",
    "import pandas as pd\n",
    "import seaborn as sns\n",
    "\n",
    "%matplotlib inline"
   ]
  },
  {
   "attachments": {},
   "cell_type": "markdown",
   "metadata": {},
   "source": [
    "#### Carregando as bases de dados"
   ]
  },
  {
   "attachments": {},
   "cell_type": "markdown",
   "metadata": {},
   "source": [
    "Base dos dados obtidos na primeira pesquisa já classificados."
   ]
  },
  {
   "cell_type": "code",
   "execution_count": 2,
   "metadata": {},
   "outputs": [
    {
     "data": {
      "text/html": [
       "<div>\n",
       "<style scoped>\n",
       "    .dataframe tbody tr th:only-of-type {\n",
       "        vertical-align: middle;\n",
       "    }\n",
       "\n",
       "    .dataframe tbody tr th {\n",
       "        vertical-align: top;\n",
       "    }\n",
       "\n",
       "    .dataframe thead th {\n",
       "        text-align: right;\n",
       "    }\n",
       "</style>\n",
       "<table border=\"1\" class=\"dataframe\">\n",
       "  <thead>\n",
       "    <tr style=\"text-align: right;\">\n",
       "      <th></th>\n",
       "      <th>Category</th>\n",
       "      <th>Document Title</th>\n",
       "      <th>Authors</th>\n",
       "      <th>Publication Title</th>\n",
       "      <th>Publication Year</th>\n",
       "      <th>Abstract</th>\n",
       "      <th>Author Keywords</th>\n",
       "      <th>IEEE Terms</th>\n",
       "      <th>Document Identifier</th>\n",
       "    </tr>\n",
       "  </thead>\n",
       "  <tbody>\n",
       "    <tr>\n",
       "      <th>2</th>\n",
       "      <td>[Product Development (PD)]</td>\n",
       "      <td>Towards a Web-of-Things Approach for OPC UA Fi...</td>\n",
       "      <td>[Q. -D. Nguyen,  S. Dhouib,  J. -P. Chanet,  P...</td>\n",
       "      <td>2022 IEEE 18th International Conference on Fac...</td>\n",
       "      <td>2022</td>\n",
       "      <td>In the opc UA standard, the opc UA information...</td>\n",
       "      <td>Industry;Internet of Things;OPC UA;Web of Thin...</td>\n",
       "      <td>Runtime;Conferences;Semantics;Manuals;Producti...</td>\n",
       "      <td>IEEE Conferences</td>\n",
       "    </tr>\n",
       "    <tr>\n",
       "      <th>3</th>\n",
       "      <td>[Redundancy and Availability (RA)]</td>\n",
       "      <td>Practical Implementation of an OPC UA Multi-Se...</td>\n",
       "      <td>[C. Pu,  X. Ding,  P. Wang,  Y. Yang]</td>\n",
       "      <td>2022 IEEE International Conferences on Interne...</td>\n",
       "      <td>2022</td>\n",
       "      <td>The Open Platform Communication Unified Archit...</td>\n",
       "      <td>automated industry;OPC UA;TSN;server aggregation</td>\n",
       "      <td>Social computing;Data security;Configuration m...</td>\n",
       "      <td>IEEE Conferences</td>\n",
       "    </tr>\n",
       "  </tbody>\n",
       "</table>\n",
       "</div>"
      ],
      "text/plain": [
       "                             Category   \n",
       "2          [Product Development (PD)]  \\\n",
       "3  [Redundancy and Availability (RA)]   \n",
       "\n",
       "                                      Document Title   \n",
       "2  Towards a Web-of-Things Approach for OPC UA Fi...  \\\n",
       "3  Practical Implementation of an OPC UA Multi-Se...   \n",
       "\n",
       "                                             Authors   \n",
       "2  [Q. -D. Nguyen,  S. Dhouib,  J. -P. Chanet,  P...  \\\n",
       "3              [C. Pu,  X. Ding,  P. Wang,  Y. Yang]   \n",
       "\n",
       "                                   Publication Title  Publication Year   \n",
       "2  2022 IEEE 18th International Conference on Fac...              2022  \\\n",
       "3  2022 IEEE International Conferences on Interne...              2022   \n",
       "\n",
       "                                            Abstract   \n",
       "2  In the opc UA standard, the opc UA information...  \\\n",
       "3  The Open Platform Communication Unified Archit...   \n",
       "\n",
       "                                     Author Keywords   \n",
       "2  Industry;Internet of Things;OPC UA;Web of Thin...  \\\n",
       "3   automated industry;OPC UA;TSN;server aggregation   \n",
       "\n",
       "                                          IEEE Terms Document Identifier  \n",
       "2  Runtime;Conferences;Semantics;Manuals;Producti...    IEEE Conferences  \n",
       "3  Social computing;Data security;Configuration m...    IEEE Conferences  "
      ]
     },
     "execution_count": 2,
     "metadata": {},
     "output_type": "execute_result"
    }
   ],
   "source": [
    "df = pd.read_excel('Build/opcua5years_pre2.xlsm')\n",
    "drop_labels = ['Author Affiliations','Date Added To Xplore','Volume',\n",
    "               'Issue','Start Page','End Page','ISSN','ISBNs','DOI',\n",
    "               'Funding Information','PDF Link','INSPEC Controlled Terms',\n",
    "               'INSPEC Non-Controlled Terms','Mesh_Terms','Article Citation Count',\n",
    "               'Patent Citation Count','Reference Count','License','Online Date',\n",
    "               'Issue Date','Meeting Date','Publisher']\n",
    "classified = df.drop(labels=drop_labels, axis=1)\n",
    "classified['Category'] = list(classified['Category'].str.split(\";\", expand=False))\n",
    "classified['Authors'] = list(classified['Authors'].str.split(\";\", expand=False))\n",
    "classified.index += 2\n",
    "classified.head(2)"
   ]
  },
  {
   "attachments": {},
   "cell_type": "markdown",
   "metadata": {},
   "source": [
    "Base de dados obtida na segunda pesquisa, com os seguintes filtros:\n",
    "\n",
    "- Search terms: \"OPC UA\" in Author Keywords\n",
    "- Language: English\n",
    "- Date range: Last 5 years"
   ]
  },
  {
   "cell_type": "code",
   "execution_count": 3,
   "metadata": {},
   "outputs": [],
   "source": [
    "df = pd.read_csv('Build/opcua5years_keywords2.csv')\n",
    "new_query = df.drop(labels=drop_labels+['Authors','Publication Title','Publication Year','Abstract','Author Keywords','IEEE Terms','Document Identifier'], axis=1)\n",
    "new_query_titles = new_query['Document Title'].tolist()"
   ]
  },
  {
   "attachments": {},
   "cell_type": "markdown",
   "metadata": {},
   "source": [
    "Dataframe com a base de dados já classificada e filtrada para aquelas que apenas tem OPC UA no Author Keywords"
   ]
  },
  {
   "cell_type": "code",
   "execution_count": 4,
   "metadata": {},
   "outputs": [
    {
     "name": "stdout",
     "output_type": "stream",
     "text": [
      "<class 'pandas.core.frame.DataFrame'>\n",
      "Index: 237 entries, 2 to 293\n",
      "Data columns (total 9 columns):\n",
      " #   Column               Non-Null Count  Dtype \n",
      "---  ------               --------------  ----- \n",
      " 0   Category             237 non-null    object\n",
      " 1   Document Title       237 non-null    object\n",
      " 2   Authors              237 non-null    object\n",
      " 3   Publication Title    237 non-null    object\n",
      " 4   Publication Year     237 non-null    int64 \n",
      " 5   Abstract             237 non-null    object\n",
      " 6   Author Keywords      237 non-null    object\n",
      " 7   IEEE Terms           221 non-null    object\n",
      " 8   Document Identifier  237 non-null    object\n",
      "dtypes: int64(1), object(8)\n",
      "memory usage: 18.5+ KB\n"
     ]
    }
   ],
   "source": [
    "filtered_classified = classified[classified['Document Title'].isin(new_query_titles)]\n",
    "filtered_classified.to_csv('filtered_classified.csv',sep=',',encoding='UTF-8')\n",
    "filtered_classified.info()"
   ]
  },
  {
   "attachments": {},
   "cell_type": "markdown",
   "metadata": {},
   "source": [
    "Separação dos dados em categorias (EXPLODE)"
   ]
  },
  {
   "cell_type": "code",
   "execution_count": 5,
   "metadata": {},
   "outputs": [],
   "source": [
    "def explode(df, lst_cols, fill_value='', preserve_index=False):\n",
    "    if (lst_cols is not None\n",
    "        and len(lst_cols) > 0\n",
    "        and not isinstance(lst_cols, (list, tuple, np.ndarray, pd.Series))):\n",
    "        lst_cols = [lst_cols]\n",
    "    idx_cols = df.columns.difference(lst_cols)\n",
    "    lens = df[lst_cols[0]].str.len()\n",
    "    idx = np.repeat(df.index.values, lens)\n",
    "    res = (pd.DataFrame({\n",
    "                col:np.repeat(df[col].values, lens)\n",
    "                for col in idx_cols},\n",
    "                index=idx)\n",
    "             .assign(**{col:np.concatenate(df.loc[lens>0, col].values)\n",
    "                            for col in lst_cols}))\n",
    "    if (lens == 0).any():\n",
    "        res = (res.append(df.loc[lens==0, idx_cols], sort=False)\n",
    "                  .fillna(fill_value))\n",
    "    res = res.sort_index()\n",
    "    if not preserve_index:\n",
    "        res = res.reset_index(drop=True)\n",
    "    return res"
   ]
  },
  {
   "cell_type": "code",
   "execution_count": 6,
   "metadata": {},
   "outputs": [
    {
     "data": {
      "text/plain": [
       "Category\n",
       "Product Development (PD)            79\n",
       "Integration (I)                     58\n",
       "Performance Analysis (PA)           42\n",
       "Protocol Comparison (PC)            35\n",
       "Others (O)                          35\n",
       "Diagnostic and Monitoring (DM)      33\n",
       "Theory (T)                          28\n",
       "Wireless Communication (W)          26\n",
       "Security (S)                        25\n",
       "Redundancy and Availability (RA)     9\n",
       "Name: count, dtype: int64"
      ]
     },
     "execution_count": 6,
     "metadata": {},
     "output_type": "execute_result"
    }
   ],
   "source": [
    "classified_explode_categories = filtered_classified.explode('Category')\n",
    "classified_explode_categories['Category'].value_counts()"
   ]
  },
  {
   "cell_type": "markdown",
   "metadata": {},
   "source": [
    "## Consultas\n",
    "\n",
    "Realizar as consultas na base para construir tabelas e gráficos da seção **Quantitative Analysis**"
   ]
  },
  {
   "attachments": {},
   "cell_type": "markdown",
   "metadata": {},
   "source": [
    "#### Número de publicações relacionadas com OPC UA por ano"
   ]
  },
  {
   "cell_type": "code",
   "execution_count": 7,
   "metadata": {},
   "outputs": [
    {
     "data": {
      "image/png": "[encoded data removed]",
      "text/plain": [
       "<Figure size 500x300 with 1 Axes>"
      ]
     },
     "metadata": {},
     "output_type": "display_data"
    }
   ],
   "source": [
    "grouped1 = filtered_classified.groupby(['Publication Year', 'Document Identifier']).size().reset_index(name='Count')\n",
    "pivot1 = grouped1.pivot(index='Publication Year', columns='Document Identifier', values='Count')\n",
    "plt.figure(figsize=(5, 3))\n",
    "# lines = pivot.plot(kind='line',linewidth=3)\n",
    "plt.plot(pivot1.index, pivot1['IEEE Conferences'], linestyle='--', color='black', linewidth=3, label='Conference')\n",
    "plt.plot(pivot1.index, pivot1['IEEE Journals'], linestyle='-', color='black', linewidth=3, label='Journal')\n",
    "plt.xlabel('Year')\n",
    "plt.ylabel('Number of Publications')\n",
    "plt.xlim(2018, 2022)\n",
    "plt.xticks(range(2018, 2023, 1))\n",
    "plt.legend(title='', loc='upper right')\n",
    "plt.show()"
   ]
  },
  {
   "attachments": {},
   "cell_type": "markdown",
   "metadata": {},
   "source": [
    "Total de artigos em conferência e jornal"
   ]
  },
  {
   "cell_type": "code",
   "execution_count": 8,
   "metadata": {},
   "outputs": [
    {
     "name": "stdout",
     "output_type": "stream",
     "text": [
      "Conferência:  226\n",
      "Jornal:  11\n"
     ]
    }
   ],
   "source": [
    "print('Conferência: ',pivot1['IEEE Conferences'].sum())\n",
    "print('Jornal: ',pivot1['IEEE Journals'].sum())"
   ]
  },
  {
   "attachments": {},
   "cell_type": "markdown",
   "metadata": {},
   "source": [
    "Maior meio publicador"
   ]
  },
  {
   "cell_type": "code",
   "execution_count": 9,
   "metadata": {},
   "outputs": [
    {
     "name": "stdout",
     "output_type": "stream",
     "text": [
      "{'iThings': 1, 'FarEastCon': 1, 'AEECA': 1, 'CIMPS': 1, 'CSCS': 1, 'IICSPI': 1, 'ICIS': 1, 'RusAutoCon': 1, 'ICAICA': 1, 'IPEC': 1, 'CNCIT': 1, 'ICCASIT': 1, 'ETCM': 1, 'Indo-Taiwan ICAN': 1, 'ICIBA': 1, 'NSENS': 1, 'REPE': 1, 'AI4I': 1, 'VLSI': 1, 'ICWCSG': 1, 'SmartWorld/SCALCOM/UIC/ATC/CBDCom/IOP/SCI': 1, 'IEEM': 1, 'ICBAIE': 1, 'ISETC': 1, 'CBI': 1, 'ICTC': 1, 'CTS': 1, 'IMCCC': 1, 'CISTI': 1, 'ICAI': 1, 'CASE': 1, 'ICEVT': 1, 'CACS': 1, 'CCDC': 1, 'IIAI-AAI': 1, 'ICSAI': 1, 'YEF-ECE': 1, 'RIVF': 1, 'CAMAD': 1, 'I2MTC': 1, \"EPE '19 ECCE Europe\": 1, 'MetroInd4.0&IoT': 1, \"exp.at'19\": 1, 'ICA-ACCA': 1, 'RTSI': 1, 'APSIPA ASC': 1, 'CCAC': 1, 'ECICE': 1, 'SIMS': 1, ' SDPC': 1, 'ICSPCC': 1, 'ICCI': 1, 'COINS': 1, 'CIYCEE': 1, 'ISORC': 1, 'DSD': 1, 'ICCC': 1, 'ICII': 1, 'ENERGYCON': 1, 'ICPECA': 1, 'ICICTA': 1, 'ICTAI': 1, 'AICT': 1, 'IDAACS': 1, 'ME': 1, 'ISSE': 1, 'TOCS': 2, 'ICE/ITMC': 2, 'SAMI': 2, 'ICCMA': 2, 'ITNEC': 2, 'ITNAC': 2, 'ICTech': 2, 'WF-IoT': 2, 'ICCAR': 2, 'TELFOR': 2, 'ICITES': 2, 'ICSC': 2, 'ICARSC': 2, 'CCC': 3, 'K&I': 3, 'ICIEA': 3, 'ISIE': 4, 'CAC': 5, 'ICIT': 6, 'WFCS': 10, 'ETFA ': 10, 'ICPS': 15, 'INDIN': 17, None: 22, 'ETFA': 47}\n",
      "O maior publicador, tanto para conferências quanto para jornais, foi:  ETFA\n",
      "Dos jornais:  None\n",
      "Das conferencias:  ETFA\n"
     ]
    }
   ],
   "source": [
    "import re\n",
    "from collections import Counter\n",
    "\n",
    "pub_title_full = list(filtered_classified['Publication Title'])\n",
    "journals = filtered_classified[filtered_classified['Document Identifier'] == 'IEEE Journals']\n",
    "conferences = filtered_classified[filtered_classified['Document Identifier'] == 'IEEE Conferences']\n",
    "pub_title_journal = list(journals['Publication Title'])\n",
    "pub_title_conferences = list(conferences['Publication Title'])\n",
    "\n",
    "# Regular expression pattern to extract text between parentheses\n",
    "pattern = r'\\((.*?)\\)'\n",
    "\n",
    "# Empty list to store the extracted text\n",
    "pub_title_compact = []\n",
    "for s in pub_title_full:\n",
    "    result = re.findall(pattern, s)\n",
    "    pub_title_compact.append(result[0] if result else None)\n",
    "\n",
    "dict1 = Counter(pub_title_compact)\n",
    "dict1 = dict(sorted(dict1.items(), key=lambda item: item[1]))\n",
    "\n",
    "pub_title_journal_compact = []\n",
    "for s in pub_title_journal:\n",
    "    result = re.findall(pattern, s)\n",
    "    pub_title_journal_compact.append(result[0] if result else None)\n",
    "\n",
    "dict2 = Counter(pub_title_journal_compact)\n",
    "dict2 = dict(sorted(dict2.items(), key=lambda item: item[1]))\n",
    "\n",
    "pub_title_conference_compact = []\n",
    "for s in pub_title_conferences:\n",
    "    result = re.findall(pattern, s)\n",
    "    pub_title_conference_compact.append(result[0] if result else None)\n",
    "\n",
    "dict3 = Counter(pub_title_conference_compact)\n",
    "dict3 = dict(sorted(dict3.items(), key=lambda item: item[1]))\n",
    "\n",
    "print(dict1)\n",
    "print('O maior publicador, tanto para conferências quanto para jornais, foi: ', list(dict1.keys())[-1])\n",
    "print('Dos jornais: ', list(dict2.keys())[-1])\n",
    "print('Das conferencias: ', list(dict3.keys())[-1])"
   ]
  },
  {
   "cell_type": "markdown",
   "metadata": {},
   "source": [
    "Escritores com maior quantidade de publicações"
   ]
  },
  {
   "cell_type": "code",
   "execution_count": 10,
   "metadata": {},
   "outputs": [
    {
     "name": "stdout",
     "output_type": "stream",
     "text": [
      "[list(['Wireless Communication (W)', 'Performance Analysis (PA)', 'Integration (I)'])\n",
      " list(['Protocol Comparison (PC)', 'Performance Analysis (PA)'])\n",
      " list(['Integration (I)']) list(['Protocol Comparison (PC)'])\n",
      " list(['Product Development (PD)', 'Diagnostic and Monitoring (DM)', 'Others (O)'])\n",
      " list(['Others (O)'])]\n"
     ]
    }
   ],
   "source": [
    "# authors_explode = filtered_classified.explode('Authors')['Authors']\n",
    "authors_explode = filtered_classified.explode('Authors')\n",
    "vc = authors_explode['Authors'].value_counts()\n",
    "author = vc.index[3]\n",
    "categories = authors_explode[authors_explode['Authors'] == author]['Category']\n",
    "print(categories.values)"
   ]
  },
  {
   "attachments": {},
   "cell_type": "markdown",
   "metadata": {},
   "source": [
    "Coexistência de categorias"
   ]
  },
  {
   "cell_type": "code",
   "execution_count": null,
   "metadata": {},
   "outputs": [],
   "source": []
  },
  {
   "attachments": {},
   "cell_type": "markdown",
   "metadata": {},
   "source": [
    "#### Quantidade de artigos por categorias (Tabela)"
   ]
  },
  {
   "cell_type": "code",
   "execution_count": 12,
   "metadata": {},
   "outputs": [
    {
     "data": {
      "text/html": [
       "<div>\n",
       "<style scoped>\n",
       "    .dataframe tbody tr th:only-of-type {\n",
       "        vertical-align: middle;\n",
       "    }\n",
       "\n",
       "    .dataframe tbody tr th {\n",
       "        vertical-align: top;\n",
       "    }\n",
       "\n",
       "    .dataframe thead th {\n",
       "        text-align: right;\n",
       "    }\n",
       "</style>\n",
       "<table border=\"1\" class=\"dataframe\">\n",
       "  <thead>\n",
       "    <tr style=\"text-align: right;\">\n",
       "      <th>Category</th>\n",
       "      <th>Diagnostic and Monitoring (DM)</th>\n",
       "      <th>Integration (I)</th>\n",
       "      <th>Others (O)</th>\n",
       "      <th>Performance Analysis (PA)</th>\n",
       "      <th>Product Development (PD)</th>\n",
       "      <th>Protocol Comparison (PC)</th>\n",
       "      <th>Redundancy and Availability (RA)</th>\n",
       "      <th>Security (S)</th>\n",
       "      <th>Theory (T)</th>\n",
       "      <th>Wireless Communication (W)</th>\n",
       "    </tr>\n",
       "    <tr>\n",
       "      <th>Publication Year</th>\n",
       "      <th></th>\n",
       "      <th></th>\n",
       "      <th></th>\n",
       "      <th></th>\n",
       "      <th></th>\n",
       "      <th></th>\n",
       "      <th></th>\n",
       "      <th></th>\n",
       "      <th></th>\n",
       "      <th></th>\n",
       "    </tr>\n",
       "  </thead>\n",
       "  <tbody>\n",
       "    <tr>\n",
       "      <th>2018</th>\n",
       "      <td>2</td>\n",
       "      <td>11</td>\n",
       "      <td>4</td>\n",
       "      <td>5</td>\n",
       "      <td>12</td>\n",
       "      <td>2</td>\n",
       "      <td>2</td>\n",
       "      <td>4</td>\n",
       "      <td>3</td>\n",
       "      <td>2</td>\n",
       "    </tr>\n",
       "    <tr>\n",
       "      <th>2019</th>\n",
       "      <td>10</td>\n",
       "      <td>14</td>\n",
       "      <td>9</td>\n",
       "      <td>10</td>\n",
       "      <td>20</td>\n",
       "      <td>10</td>\n",
       "      <td>1</td>\n",
       "      <td>6</td>\n",
       "      <td>7</td>\n",
       "      <td>7</td>\n",
       "    </tr>\n",
       "    <tr>\n",
       "      <th>2020</th>\n",
       "      <td>13</td>\n",
       "      <td>14</td>\n",
       "      <td>12</td>\n",
       "      <td>8</td>\n",
       "      <td>13</td>\n",
       "      <td>10</td>\n",
       "      <td>3</td>\n",
       "      <td>6</td>\n",
       "      <td>8</td>\n",
       "      <td>6</td>\n",
       "    </tr>\n",
       "    <tr>\n",
       "      <th>2021</th>\n",
       "      <td>3</td>\n",
       "      <td>11</td>\n",
       "      <td>2</td>\n",
       "      <td>12</td>\n",
       "      <td>16</td>\n",
       "      <td>6</td>\n",
       "      <td>1</td>\n",
       "      <td>4</td>\n",
       "      <td>6</td>\n",
       "      <td>7</td>\n",
       "    </tr>\n",
       "    <tr>\n",
       "      <th>2022</th>\n",
       "      <td>5</td>\n",
       "      <td>8</td>\n",
       "      <td>8</td>\n",
       "      <td>7</td>\n",
       "      <td>18</td>\n",
       "      <td>7</td>\n",
       "      <td>2</td>\n",
       "      <td>5</td>\n",
       "      <td>4</td>\n",
       "      <td>4</td>\n",
       "    </tr>\n",
       "  </tbody>\n",
       "</table>\n",
       "</div>"
      ],
      "text/plain": [
       "Category          Diagnostic and Monitoring (DM)  Integration (I)  Others (O)   \n",
       "Publication Year                                                                \n",
       "2018                                           2               11           4  \\\n",
       "2019                                          10               14           9   \n",
       "2020                                          13               14          12   \n",
       "2021                                           3               11           2   \n",
       "2022                                           5                8           8   \n",
       "\n",
       "Category          Performance Analysis (PA)  Product Development (PD)   \n",
       "Publication Year                                                        \n",
       "2018                                      5                        12  \\\n",
       "2019                                     10                        20   \n",
       "2020                                      8                        13   \n",
       "2021                                     12                        16   \n",
       "2022                                      7                        18   \n",
       "\n",
       "Category          Protocol Comparison (PC)  Redundancy and Availability (RA)   \n",
       "Publication Year                                                               \n",
       "2018                                     2                                 2  \\\n",
       "2019                                    10                                 1   \n",
       "2020                                    10                                 3   \n",
       "2021                                     6                                 1   \n",
       "2022                                     7                                 2   \n",
       "\n",
       "Category          Security (S)  Theory (T)  Wireless Communication (W)  \n",
       "Publication Year                                                        \n",
       "2018                         4           3                           2  \n",
       "2019                         6           7                           7  \n",
       "2020                         6           8                           6  \n",
       "2021                         4           6                           7  \n",
       "2022                         5           4                           4  "
      ]
     },
     "execution_count": 12,
     "metadata": {},
     "output_type": "execute_result"
    }
   ],
   "source": [
    "grouped2 = classified_explode_categories.groupby(['Publication Year', 'Category']).size().reset_index(name='Count')\n",
    "pivot2 = grouped2.pivot(index='Publication Year', columns='Category', values='Count')\n",
    "pivot2"
   ]
  },
  {
   "cell_type": "code",
   "execution_count": 22,
   "metadata": {},
   "outputs": [],
   "source": [
    "classified_explode_categories[classified_explode_categories['Category'] == 'Product Development (PD)'][['Document Title','Abstract']].to_csv('pd.csv',sep=',',encoding='UTF-8')\n",
    "classified_explode_categories[classified_explode_categories['Category'] == 'Diagnostic and Monitoring (DM)'][['Document Title','Abstract']].to_csv('dm.csv',sep=',',encoding='UTF-8')\n",
    "classified_explode_categories[classified_explode_categories['Category'] == 'Integration (I)' and 'Theory (T)'][['Document Title','Abstract']].to_csv('pd.csv',sep=',',encoding='UTF-8')\n",
    "classified_explode_categories[classified_explode_categories['Category'] == 'Product Development (PD)'][['Document Title','Abstract']].to_csv('pd.csv',sep=',',encoding='UTF-8')\n",
    "classified_explode_categories[classified_explode_categories['Category'] == 'Product Development (PD)'][['Document Title','Abstract']].to_csv('pd.csv',sep=',',encoding='UTF-8')\n",
    "classified_explode_categories[classified_explode_categories['Category'] == 'Product Development (PD)'][['Document Title','Abstract']].to_csv('pd.csv',sep=',',encoding='UTF-8')\n",
    "classified_explode_categories[classified_explode_categories['Category'] == 'Product Development (PD)'][['Document Title','Abstract']].to_csv('pd.csv',sep=',',encoding='UTF-8')\n",
    "classified_explode_categories[classified_explode_categories['Category'] == 'Product Development (PD)'][['Document Title','Abstract']].to_csv('pd.csv',sep=',',encoding='UTF-8')"
   ]
  },
  {
   "cell_type": "code",
   "execution_count": 31,
   "metadata": {},
   "outputs": [
    {
     "ename": "ValueError",
     "evalue": "The truth value of a Series is ambiguous. Use a.empty, a.bool(), a.item(), a.any() or a.all().",
     "output_type": "error",
     "traceback": [
      "\u001b[0;31m---------------------------------------------------------------------------\u001b[0m",
      "\u001b[0;31mValueError\u001b[0m                                Traceback (most recent call last)",
      "Cell \u001b[0;32mIn[31], line 1\u001b[0m\n\u001b[0;32m----> 1\u001b[0m classified_explode_categories[classified_explode_categories[\u001b[39m'\u001b[39;49m\u001b[39mCategory\u001b[39;49m\u001b[39m'\u001b[39;49m] \u001b[39m==\u001b[39;49m \u001b[39m'\u001b[39;49m\u001b[39mIntegration (I)\u001b[39;49m\u001b[39m'\u001b[39;49m \u001b[39mand\u001b[39;49;00m \u001b[39m'\u001b[39;49m\u001b[39mTheory (T)\u001b[39;49m\u001b[39m'\u001b[39;49m][[\u001b[39m'\u001b[39m\u001b[39mDocument Title\u001b[39m\u001b[39m'\u001b[39m,\u001b[39m'\u001b[39m\u001b[39mAbstract\u001b[39m\u001b[39m'\u001b[39m]]\n",
      "File \u001b[0;32m~/Projects/GitHub/FP-MastersDegree/.venv/lib/python3.11/site-packages/pandas/core/generic.py:1466\u001b[0m, in \u001b[0;36mNDFrame.__nonzero__\u001b[0;34m(self)\u001b[0m\n\u001b[1;32m   1464\u001b[0m \u001b[39m@final\u001b[39m\n\u001b[1;32m   1465\u001b[0m \u001b[39mdef\u001b[39;00m \u001b[39m__nonzero__\u001b[39m(\u001b[39mself\u001b[39m) \u001b[39m-\u001b[39m\u001b[39m>\u001b[39m NoReturn:\n\u001b[0;32m-> 1466\u001b[0m     \u001b[39mraise\u001b[39;00m \u001b[39mValueError\u001b[39;00m(\n\u001b[1;32m   1467\u001b[0m         \u001b[39mf\u001b[39m\u001b[39m\"\u001b[39m\u001b[39mThe truth value of a \u001b[39m\u001b[39m{\u001b[39;00m\u001b[39mtype\u001b[39m(\u001b[39mself\u001b[39m)\u001b[39m.\u001b[39m\u001b[39m__name__\u001b[39m\u001b[39m}\u001b[39;00m\u001b[39m is ambiguous. \u001b[39m\u001b[39m\"\u001b[39m\n\u001b[1;32m   1468\u001b[0m         \u001b[39m\"\u001b[39m\u001b[39mUse a.empty, a.bool(), a.item(), a.any() or a.all().\u001b[39m\u001b[39m\"\u001b[39m\n\u001b[1;32m   1469\u001b[0m     )\n",
      "\u001b[0;31mValueError\u001b[0m: The truth value of a Series is ambiguous. Use a.empty, a.bool(), a.item(), a.any() or a.all()."
     ]
    }
   ],
   "source": [
    "classified_explode_categories[classified_explode_categories['Category'] == 'Integration (I)' && 'Theory (T)'][['Document Title','Abstract']]"
   ]
  }
 ],
 "metadata": {
  "kernelspec": {
   "display_name": "Python 3",
   "language": "python",
   "name": "python3"
  },
  "language_info": {
   "codemirror_mode": {
    "name": "ipython",
    "version": 3
   },
   "file_extension": ".py",
   "mimetype": "text/x-python",
   "name": "python",
   "nbconvert_exporter": "python",
   "pygments_lexer": "ipython3",
   "version": "3.11.1"
  },
  "orig_nbformat": 4,
  "vscode": {
   "interpreter": {
    "hash": "11aeceda34d22bd7fc24ada2418dd5d67b02f19dc89f08ce97274e9826c8cecb"
   }
  }
 },
 "nbformat": 4,
 "nbformat_minor": 2
}
